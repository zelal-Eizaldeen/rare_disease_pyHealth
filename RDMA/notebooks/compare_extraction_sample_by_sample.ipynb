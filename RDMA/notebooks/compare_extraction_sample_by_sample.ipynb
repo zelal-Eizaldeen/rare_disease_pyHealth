{
 "cells": [
  {
   "cell_type": "markdown",
   "metadata": {},
   "source": [
    "python zero_shot_rd_extraction.py \\\n",
    "    --input_file mimic_clinical_notes.json \\\n",
    "    --output_file rare_disease_mentions.csv \\\n",
    "    --model llama3_70b \\\n",
    "    --gpu_id 0 \\\n",
    "    --batch_size 1"
   ]
  }
 ],
 "metadata": {
  "language_info": {
   "name": "python"
  }
 },
 "nbformat": 4,
 "nbformat_minor": 2
}
