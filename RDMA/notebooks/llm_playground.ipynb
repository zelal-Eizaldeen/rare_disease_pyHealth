{
 "cells": [
  {
   "cell_type": "code",
   "execution_count": 1,
   "id": "cb2916ac",
   "metadata": {},
   "outputs": [],
   "source": [
    "\n",
    "import os\n",
    "import sys\n",
    "current_dir = os.getcwd()\n",
    "parent_dir = os.path.dirname(current_dir)\n",
    "sys.path.insert(0, parent_dir)\n",
    "# Set the parent directory as the current directory\n",
    "os.chdir(parent_dir)"
   ]
  },
  {
   "cell_type": "code",
   "execution_count": 2,
   "id": "1a96381e",
   "metadata": {},
   "outputs": [
    {
     "name": "stdout",
     "output_type": "stream",
     "text": [
      "Initialized ModelLoader with cache directory: /shared/rsaas/jw3/rare_disease/model_cache\n",
      "Loading LLM!\n",
      "Device configuration: cuda:1\n",
      "Using device map: {'': 'cuda:1'}\n",
      "Loading 70B model with quantization: mistral_24b\n",
      "Generated cache path: /shared/rsaas/jw3/rare_disease/model_cache/Mistral-Small-24B-Instruct-2501_4bit_nf4\n",
      "Valid cache found at /shared/rsaas/jw3/rare_disease/model_cache/Mistral-Small-24B-Instruct-2501_4bit_nf4\n",
      "Loading cached quantized model from /shared/rsaas/jw3/rare_disease/model_cache/Mistral-Small-24B-Instruct-2501_4bit_nf4\n"
     ]
    },
    {
     "name": "stderr",
     "output_type": "stream",
     "text": [
      "/home/johnwu3/miniconda3/envs/hporag/lib/python3.10/site-packages/transformers/quantizers/auto.py:206: UserWarning: You passed `quantization_config` or equivalent parameters to `from_pretrained` but the model you're loading already has a `quantization_config` attribute. The `quantization_config` from the model will be used.\n",
      "  warnings.warn(warning_msg)\n"
     ]
    },
    {
     "data": {
      "application/vnd.jupyter.widget-view+json": {
       "model_id": "3b4966942235486da90344c2a926dcd4",
       "version_major": 2,
       "version_minor": 0
      },
      "text/plain": [
       "Loading checkpoint shards:   0%|          | 0/3 [00:00<?, ?it/s]"
      ]
     },
     "metadata": {},
     "output_type": "display_data"
    },
    {
     "name": "stderr",
     "output_type": "stream",
     "text": [
      "Device set to use cuda:1\n"
     ]
    },
    {
     "name": "stdout",
     "output_type": "stream",
     "text": [
      "Hello! I'm here to help. How can I assist you today? If you have any medical questions or need information on a specific topic, feel free to ask. Please note that while I strive to provide accurate and helpful information, I am an AI and my knowledge cutoff is 2023, so I might not have real-time or up-to-date information. For urgent medical concerns, always consult a healthcare professional.\n",
      "\n",
      "Here are a few examples of how I can assist you:\n",
      "\n",
      "* Explain medical terms or concepts\n",
      "* Provide information on diseases, symptoms, and treatments\n",
      "* Offer insights into medical procedures and tests\n",
      "* Discuss healthcare guidelines and recommendations\n",
      "* Answer questions related to biomedical research and studies\n",
      "\n",
      "What would you like to know or discuss?\n"
     ]
    }
   ],
   "source": [
    "def load_mistral_llm_client():\n",
    "    \"\"\"\n",
    "    Load a Mistral 24B LLM client configured with default cache directories\n",
    "    and assigned to cuda:0 device.\n",
    "    \n",
    "    Returns:\n",
    "        LocalLLMClient: Initialized LLM client for Mistral 24B\n",
    "    \"\"\"\n",
    "    from rdma.utils.llm_client import LocalLLMClient\n",
    "    \n",
    "    # Default cache directory from mine_hpo.py\n",
    "    default_cache_dir = \"/u/zelalae2/scratch/rdma_cache\"\n",
    "    \n",
    "    # Initialize and return the client with specific configuration\n",
    "    llm_client = LocalLLMClient(\n",
    "        model_type=\"mistral_24b\",  # Explicitly request mistral_24b model\n",
    "        device=\"cuda:1\",           # Assign to first GPU (cuda:0)\n",
    "        cache_dir=default_cache_dir,\n",
    "        temperature=0.1           # Default temperature from mine_hpo.py\n",
    "    )\n",
    "    \n",
    "    return llm_client\n",
    "\n",
    "llm_client = load_mistral_llm_client()"
   ]
  },
  {
   "cell_type": "code",
   "execution_count": 3,
   "id": "70daa2a0",
   "metadata": {},
   "outputs": [
    {
     "data": {
      "text/plain": [
       "'Rheumatic fever is not considered a rare disease, but its incidence has significantly decreased in many parts of the world, particularly in developed countries, due to the widespread use of antibiotics to treat streptococcal infections. However, it remains a significant health issue in some regions, particularly in low- and middle-income countries.\\n\\nRheumatic fever is an inflammatory disease that can develop as a complication of untreated or inadequately treated streptococcal infections, such as strep throat or scarlet fever. It primarily affects children and young adults and can lead to serious complications, including damage to the heart, joints, skin, and brain.\\n\\nThe incidence of rheumatic fever varies by region. In developed countries, it is relatively rare, but in some developing countries, it remains a significant public health problem. For example, in some parts of Africa, Asia, and Latin America, rheumatic fever and its complications, such as rheumatic heart disease, are still common.\\n\\nPrevention through prompt and adequate treatment of streptococcal infections is key to reducing the incidence of rheumatic fever. Vaccines and improved healthcare infrastructure can also play a crucial role in preventing this condition.'"
      ]
     },
     "execution_count": 3,
     "metadata": {},
     "output_type": "execute_result"
    }
   ],
   "source": [
    "llm_client.query(\"Is rheumatic fever a rare disease?\",\"\")"
   ]
  }
 ],
 "metadata": {
  "kernelspec": {
   "display_name": "hporag",
   "language": "python",
   "name": "python3"
  },
  "language_info": {
   "codemirror_mode": {
    "name": "ipython",
    "version": 3
   },
   "file_extension": ".py",
   "mimetype": "text/x-python",
   "name": "python",
   "nbconvert_exporter": "python",
   "pygments_lexer": "ipython3",
   "version": "3.10.16"
  }
 },
 "nbformat": 4,
 "nbformat_minor": 5
}
